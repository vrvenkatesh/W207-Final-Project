{
 "cells": [
  {
   "cell_type": "markdown",
   "id": "200b0df2",
   "metadata": {},
   "source": [
    "# Binary Classifications Embeddings Model (AboutText)"
   ]
  },
  {
   "cell_type": "markdown",
   "id": "1b49408f",
   "metadata": {},
   "source": [
    "Embeddings model for binary classification using the About Text column"
   ]
  },
  {
   "cell_type": "code",
   "execution_count": 1,
   "id": "47f78879",
   "metadata": {},
   "outputs": [],
   "source": [
    "import pandas as pd\n",
    "import numpy as np\n",
    "from matplotlib import pyplot as plt"
   ]
  },
  {
   "cell_type": "markdown",
   "id": "bde2d800",
   "metadata": {},
   "source": [
    "# Loading and Cleaning Data"
   ]
  },
  {
   "cell_type": "code",
   "execution_count": 2,
   "id": "6efd9601",
   "metadata": {},
   "outputs": [],
   "source": [
    "df_raw = pd.read_csv('games-features.csv')"
   ]
  },
  {
   "cell_type": "code",
   "execution_count": 3,
   "id": "adf635e8",
   "metadata": {},
   "outputs": [
    {
     "data": {
      "text/html": [
       "<div>\n",
       "<style scoped>\n",
       "    .dataframe tbody tr th:only-of-type {\n",
       "        vertical-align: middle;\n",
       "    }\n",
       "\n",
       "    .dataframe tbody tr th {\n",
       "        vertical-align: top;\n",
       "    }\n",
       "\n",
       "    .dataframe thead th {\n",
       "        text-align: right;\n",
       "    }\n",
       "</style>\n",
       "<table border=\"1\" class=\"dataframe\">\n",
       "  <thead>\n",
       "    <tr style=\"text-align: right;\">\n",
       "      <th></th>\n",
       "      <th>QueryID</th>\n",
       "      <th>ResponseID</th>\n",
       "      <th>QueryName</th>\n",
       "      <th>ResponseName</th>\n",
       "      <th>ReleaseDate</th>\n",
       "      <th>RequiredAge</th>\n",
       "      <th>DemoCount</th>\n",
       "      <th>DeveloperCount</th>\n",
       "      <th>DLCCount</th>\n",
       "      <th>Metacritic</th>\n",
       "      <th>...</th>\n",
       "      <th>LegalNotice</th>\n",
       "      <th>Reviews</th>\n",
       "      <th>SupportedLanguages</th>\n",
       "      <th>Website</th>\n",
       "      <th>PCMinReqsText</th>\n",
       "      <th>PCRecReqsText</th>\n",
       "      <th>LinuxMinReqsText</th>\n",
       "      <th>LinuxRecReqsText</th>\n",
       "      <th>MacMinReqsText</th>\n",
       "      <th>MacRecReqsText</th>\n",
       "    </tr>\n",
       "  </thead>\n",
       "  <tbody>\n",
       "    <tr>\n",
       "      <th>0</th>\n",
       "      <td>10</td>\n",
       "      <td>10</td>\n",
       "      <td>Counter-Strike</td>\n",
       "      <td>Counter-Strike</td>\n",
       "      <td>Nov 1 2000</td>\n",
       "      <td>0</td>\n",
       "      <td>0</td>\n",
       "      <td>1</td>\n",
       "      <td>0</td>\n",
       "      <td>88</td>\n",
       "      <td>...</td>\n",
       "      <td></td>\n",
       "      <td></td>\n",
       "      <td>English French German Italian Spanish Simplifi...</td>\n",
       "      <td>None</td>\n",
       "      <td>Minimum: 500 mhz processor 96mb ram 16mb video...</td>\n",
       "      <td></td>\n",
       "      <td>Minimum: Linux Ubuntu 12.04 Dual-core from Int...</td>\n",
       "      <td></td>\n",
       "      <td>Minimum: OS X  Snow Leopard 10.6.3 1GB RAM 4GB...</td>\n",
       "      <td></td>\n",
       "    </tr>\n",
       "    <tr>\n",
       "      <th>1</th>\n",
       "      <td>20</td>\n",
       "      <td>20</td>\n",
       "      <td>Team Fortress Classic</td>\n",
       "      <td>Team Fortress Classic</td>\n",
       "      <td>Apr 1 1999</td>\n",
       "      <td>0</td>\n",
       "      <td>0</td>\n",
       "      <td>1</td>\n",
       "      <td>0</td>\n",
       "      <td>0</td>\n",
       "      <td>...</td>\n",
       "      <td></td>\n",
       "      <td></td>\n",
       "      <td>English French German Italian Spanish</td>\n",
       "      <td>None</td>\n",
       "      <td>Minimum: 500 mhz processor 96mb ram 16mb video...</td>\n",
       "      <td></td>\n",
       "      <td>Minimum: Linux Ubuntu 12.04 Dual-core from Int...</td>\n",
       "      <td></td>\n",
       "      <td>Minimum: OS X  Snow Leopard 10.6.3 1GB RAM 4GB...</td>\n",
       "      <td></td>\n",
       "    </tr>\n",
       "    <tr>\n",
       "      <th>2</th>\n",
       "      <td>30</td>\n",
       "      <td>30</td>\n",
       "      <td>Day of Defeat</td>\n",
       "      <td>Day of Defeat</td>\n",
       "      <td>May 1 2003</td>\n",
       "      <td>0</td>\n",
       "      <td>0</td>\n",
       "      <td>1</td>\n",
       "      <td>0</td>\n",
       "      <td>79</td>\n",
       "      <td>...</td>\n",
       "      <td></td>\n",
       "      <td></td>\n",
       "      <td>English French German Italian Spanish</td>\n",
       "      <td>http://www.dayofdefeat.com/</td>\n",
       "      <td>Minimum: 500 mhz processor 96mb ram 16mb video...</td>\n",
       "      <td></td>\n",
       "      <td>Minimum: Linux Ubuntu 12.04 Dual-core from Int...</td>\n",
       "      <td></td>\n",
       "      <td>Minimum: OS X  Snow Leopard 10.6.3 1GB RAM 4GB...</td>\n",
       "      <td></td>\n",
       "    </tr>\n",
       "    <tr>\n",
       "      <th>3</th>\n",
       "      <td>40</td>\n",
       "      <td>40</td>\n",
       "      <td>Deathmatch Classic</td>\n",
       "      <td>Deathmatch Classic</td>\n",
       "      <td>Jun 1 2001</td>\n",
       "      <td>0</td>\n",
       "      <td>0</td>\n",
       "      <td>1</td>\n",
       "      <td>0</td>\n",
       "      <td>0</td>\n",
       "      <td>...</td>\n",
       "      <td></td>\n",
       "      <td></td>\n",
       "      <td>English French German Italian Spanish</td>\n",
       "      <td>None</td>\n",
       "      <td>Minimum: 500 mhz processor 96mb ram 16mb video...</td>\n",
       "      <td></td>\n",
       "      <td>Minimum: Linux Ubuntu 12.04 Dual-core from Int...</td>\n",
       "      <td></td>\n",
       "      <td>Minimum: OS X  Snow Leopard 10.6.3 1GB RAM 4GB...</td>\n",
       "      <td></td>\n",
       "    </tr>\n",
       "    <tr>\n",
       "      <th>4</th>\n",
       "      <td>50</td>\n",
       "      <td>50</td>\n",
       "      <td>Half-Life: Opposing Force</td>\n",
       "      <td>Half-Life: Opposing Force</td>\n",
       "      <td>Nov 1 1999</td>\n",
       "      <td>0</td>\n",
       "      <td>0</td>\n",
       "      <td>1</td>\n",
       "      <td>0</td>\n",
       "      <td>0</td>\n",
       "      <td>...</td>\n",
       "      <td></td>\n",
       "      <td></td>\n",
       "      <td>English French German Korean</td>\n",
       "      <td>None</td>\n",
       "      <td>Minimum: 500 mhz processor 96mb ram 16mb video...</td>\n",
       "      <td></td>\n",
       "      <td>Minimum: Linux Ubuntu 12.04 Dual-core from Int...</td>\n",
       "      <td></td>\n",
       "      <td>Minimum: OS X  Snow Leopard 10.6.3 1GB RAM 4GB...</td>\n",
       "      <td></td>\n",
       "    </tr>\n",
       "  </tbody>\n",
       "</table>\n",
       "<p>5 rows × 78 columns</p>\n",
       "</div>"
      ],
      "text/plain": [
       "   QueryID  ResponseID                  QueryName               ResponseName  \\\n",
       "0       10          10             Counter-Strike             Counter-Strike   \n",
       "1       20          20      Team Fortress Classic      Team Fortress Classic   \n",
       "2       30          30              Day of Defeat              Day of Defeat   \n",
       "3       40          40         Deathmatch Classic         Deathmatch Classic   \n",
       "4       50          50  Half-Life: Opposing Force  Half-Life: Opposing Force   \n",
       "\n",
       "  ReleaseDate  RequiredAge  DemoCount  DeveloperCount  DLCCount  Metacritic  \\\n",
       "0  Nov 1 2000            0          0               1         0          88   \n",
       "1  Apr 1 1999            0          0               1         0           0   \n",
       "2  May 1 2003            0          0               1         0          79   \n",
       "3  Jun 1 2001            0          0               1         0           0   \n",
       "4  Nov 1 1999            0          0               1         0           0   \n",
       "\n",
       "   ...  LegalNotice  Reviews  \\\n",
       "0  ...                         \n",
       "1  ...                         \n",
       "2  ...                         \n",
       "3  ...                         \n",
       "4  ...                         \n",
       "\n",
       "                                  SupportedLanguages  \\\n",
       "0  English French German Italian Spanish Simplifi...   \n",
       "1              English French German Italian Spanish   \n",
       "2              English French German Italian Spanish   \n",
       "3              English French German Italian Spanish   \n",
       "4                       English French German Korean   \n",
       "\n",
       "                       Website  \\\n",
       "0                         None   \n",
       "1                         None   \n",
       "2  http://www.dayofdefeat.com/   \n",
       "3                         None   \n",
       "4                         None   \n",
       "\n",
       "                                       PCMinReqsText  PCRecReqsText  \\\n",
       "0  Minimum: 500 mhz processor 96mb ram 16mb video...                  \n",
       "1  Minimum: 500 mhz processor 96mb ram 16mb video...                  \n",
       "2  Minimum: 500 mhz processor 96mb ram 16mb video...                  \n",
       "3  Minimum: 500 mhz processor 96mb ram 16mb video...                  \n",
       "4  Minimum: 500 mhz processor 96mb ram 16mb video...                  \n",
       "\n",
       "                                    LinuxMinReqsText  LinuxRecReqsText  \\\n",
       "0  Minimum: Linux Ubuntu 12.04 Dual-core from Int...                     \n",
       "1  Minimum: Linux Ubuntu 12.04 Dual-core from Int...                     \n",
       "2  Minimum: Linux Ubuntu 12.04 Dual-core from Int...                     \n",
       "3  Minimum: Linux Ubuntu 12.04 Dual-core from Int...                     \n",
       "4  Minimum: Linux Ubuntu 12.04 Dual-core from Int...                     \n",
       "\n",
       "                                      MacMinReqsText  MacRecReqsText  \n",
       "0  Minimum: OS X  Snow Leopard 10.6.3 1GB RAM 4GB...                  \n",
       "1  Minimum: OS X  Snow Leopard 10.6.3 1GB RAM 4GB...                  \n",
       "2  Minimum: OS X  Snow Leopard 10.6.3 1GB RAM 4GB...                  \n",
       "3  Minimum: OS X  Snow Leopard 10.6.3 1GB RAM 4GB...                  \n",
       "4  Minimum: OS X  Snow Leopard 10.6.3 1GB RAM 4GB...                  \n",
       "\n",
       "[5 rows x 78 columns]"
      ]
     },
     "execution_count": 3,
     "metadata": {},
     "output_type": "execute_result"
    }
   ],
   "source": [
    "df_raw.head()"
   ]
  },
  {
   "cell_type": "markdown",
   "id": "eafc9440",
   "metadata": {},
   "source": [
    "### Selecting rows and columns used for analysis"
   ]
  },
  {
   "cell_type": "code",
   "execution_count": 4,
   "id": "79ed4dd1",
   "metadata": {},
   "outputs": [
    {
     "data": {
      "text/plain": [
       "Index(['QueryID', 'ResponseID', 'QueryName', 'ResponseName', 'ReleaseDate',\n",
       "       'RequiredAge', 'DemoCount', 'DeveloperCount', 'DLCCount', 'Metacritic',\n",
       "       'MovieCount', 'PackageCount', 'RecommendationCount', 'PublisherCount',\n",
       "       'ScreenshotCount', 'SteamSpyOwners', 'SteamSpyOwnersVariance',\n",
       "       'SteamSpyPlayersEstimate', 'SteamSpyPlayersVariance',\n",
       "       'AchievementCount', 'AchievementHighlightedCount', 'ControllerSupport',\n",
       "       'IsFree', 'FreeVerAvail', 'PurchaseAvail', 'SubscriptionAvail',\n",
       "       'PlatformWindows', 'PlatformLinux', 'PlatformMac', 'PCReqsHaveMin',\n",
       "       'PCReqsHaveRec', 'LinuxReqsHaveMin', 'LinuxReqsHaveRec',\n",
       "       'MacReqsHaveMin', 'MacReqsHaveRec', 'CategorySinglePlayer',\n",
       "       'CategoryMultiplayer', 'CategoryCoop', 'CategoryMMO',\n",
       "       'CategoryInAppPurchase', 'CategoryIncludeSrcSDK',\n",
       "       'CategoryIncludeLevelEditor', 'CategoryVRSupport', 'GenreIsNonGame',\n",
       "       'GenreIsIndie', 'GenreIsAction', 'GenreIsAdventure', 'GenreIsCasual',\n",
       "       'GenreIsStrategy', 'GenreIsRPG', 'GenreIsSimulation',\n",
       "       'GenreIsEarlyAccess', 'GenreIsFreeToPlay', 'GenreIsSports',\n",
       "       'GenreIsRacing', 'GenreIsMassivelyMultiplayer', 'PriceCurrency',\n",
       "       'PriceInitial', 'PriceFinal', 'SupportEmail', 'SupportURL', 'AboutText',\n",
       "       'Background', 'ShortDescrip', 'DetailedDescrip', 'DRMNotice',\n",
       "       'ExtUserAcctNotice', 'HeaderImage', 'LegalNotice', 'Reviews',\n",
       "       'SupportedLanguages', 'Website', 'PCMinReqsText', 'PCRecReqsText',\n",
       "       'LinuxMinReqsText', 'LinuxRecReqsText', 'MacMinReqsText',\n",
       "       'MacRecReqsText'],\n",
       "      dtype='object')"
      ]
     },
     "execution_count": 4,
     "metadata": {},
     "output_type": "execute_result"
    }
   ],
   "source": [
    "df_raw.columns"
   ]
  },
  {
   "cell_type": "code",
   "execution_count": 5,
   "id": "6d2e080a",
   "metadata": {},
   "outputs": [],
   "source": [
    "df_all = df_raw[['QueryName', 'Metacritic',\n",
    "         #Genre variables\n",
    "        'GenreIsNonGame', 'GenreIsIndie', 'GenreIsAction', 'GenreIsAdventure', \n",
    "         'GenreIsCasual','GenreIsStrategy', 'GenreIsRPG', 'GenreIsSimulation',\n",
    "       'GenreIsEarlyAccess', 'GenreIsFreeToPlay', 'GenreIsSports', 'GenreIsRacing',\n",
    "         #Category variables\n",
    "        'CategorySinglePlayer','CategoryMultiplayer', 'CategoryCoop', 'CategoryMMO',\n",
    "       'CategoryInAppPurchase', 'CategoryIncludeSrcSDK',\n",
    "       'CategoryIncludeLevelEditor', 'CategoryVRSupport',\n",
    "         #Platform variables\n",
    "        'PlatformWindows', 'PlatformLinux', 'PlatformMac', 'PCReqsHaveMin',\n",
    "       'PCReqsHaveRec', 'LinuxReqsHaveMin', 'LinuxReqsHaveRec',\n",
    "       'MacReqsHaveMin', 'MacReqsHaveRec',\n",
    "         #Additional Info\n",
    "        'RequiredAge', 'DemoCount', 'DeveloperCount', 'DLCCount',\n",
    "        'MovieCount', 'PackageCount', 'RecommendationCount', \n",
    "        'ScreenshotCount', 'SteamSpyOwners', 'SteamSpyOwnersVariance','SteamSpyPlayersEstimate', \n",
    "         'SteamSpyPlayersVariance','AchievementCount', 'ControllerSupport', 'FreeVerAvail', \n",
    "         'PurchaseAvail', 'SubscriptionAvail', 'PriceFinal',\n",
    "         #Variables that need transformation\n",
    "         'ReleaseDate', 'SupportedLanguages', \n",
    "         #Text variables\n",
    "         'Reviews','DetailedDescrip','AboutText']]"
   ]
  },
  {
   "cell_type": "code",
   "execution_count": 6,
   "id": "011db293",
   "metadata": {},
   "outputs": [],
   "source": [
    "df = df_all[df_all['Metacritic']>0]"
   ]
  },
  {
   "cell_type": "markdown",
   "id": "e6943d46",
   "metadata": {},
   "source": [
    "### Dropping Duplicates"
   ]
  },
  {
   "cell_type": "code",
   "execution_count": 7,
   "id": "2b080c7c",
   "metadata": {},
   "outputs": [],
   "source": [
    "df = df.drop_duplicates()"
   ]
  },
  {
   "cell_type": "code",
   "execution_count": 8,
   "id": "21ed90fb",
   "metadata": {},
   "outputs": [
    {
     "data": {
      "text/html": [
       "<div>\n",
       "<style scoped>\n",
       "    .dataframe tbody tr th:only-of-type {\n",
       "        vertical-align: middle;\n",
       "    }\n",
       "\n",
       "    .dataframe tbody tr th {\n",
       "        vertical-align: top;\n",
       "    }\n",
       "\n",
       "    .dataframe thead th {\n",
       "        text-align: right;\n",
       "    }\n",
       "</style>\n",
       "<table border=\"1\" class=\"dataframe\">\n",
       "  <thead>\n",
       "    <tr style=\"text-align: right;\">\n",
       "      <th></th>\n",
       "      <th>QueryName</th>\n",
       "    </tr>\n",
       "  </thead>\n",
       "  <tbody>\n",
       "    <tr>\n",
       "      <th>Sid Meier's Civilization IV: Colonization</th>\n",
       "      <td>2</td>\n",
       "    </tr>\n",
       "    <tr>\n",
       "      <th>Monday Night Combat</th>\n",
       "      <td>2</td>\n",
       "    </tr>\n",
       "    <tr>\n",
       "      <th>Fallout: New Vegas</th>\n",
       "      <td>2</td>\n",
       "    </tr>\n",
       "    <tr>\n",
       "      <th>Darksiders</th>\n",
       "      <td>2</td>\n",
       "    </tr>\n",
       "    <tr>\n",
       "      <th>Alpha Protocol</th>\n",
       "      <td>2</td>\n",
       "    </tr>\n",
       "    <tr>\n",
       "      <th>Sid Meier's Civilization V</th>\n",
       "      <td>2</td>\n",
       "    </tr>\n",
       "    <tr>\n",
       "      <th>Sid Meier's Civilization IV: Beyond the Sword</th>\n",
       "      <td>2</td>\n",
       "    </tr>\n",
       "    <tr>\n",
       "      <th>Sid Meier's Civilization IV: Warlords</th>\n",
       "      <td>2</td>\n",
       "    </tr>\n",
       "    <tr>\n",
       "      <th>Arma 2</th>\n",
       "      <td>2</td>\n",
       "    </tr>\n",
       "    <tr>\n",
       "      <th>Sid Meier's Civilization IV</th>\n",
       "      <td>2</td>\n",
       "    </tr>\n",
       "  </tbody>\n",
       "</table>\n",
       "</div>"
      ],
      "text/plain": [
       "                                               QueryName\n",
       "Sid Meier's Civilization IV: Colonization              2\n",
       "Monday Night Combat                                    2\n",
       "Fallout: New Vegas                                     2\n",
       "Darksiders                                             2\n",
       "Alpha Protocol                                         2\n",
       "Sid Meier's Civilization V                             2\n",
       "Sid Meier's Civilization IV: Beyond the Sword          2\n",
       "Sid Meier's Civilization IV: Warlords                  2\n",
       "Arma 2                                                 2\n",
       "Sid Meier's Civilization IV                            2"
      ]
     },
     "execution_count": 8,
     "metadata": {},
     "output_type": "execute_result"
    }
   ],
   "source": [
    "df_vc = pd.DataFrame(df['QueryName'].value_counts())\n",
    "df_vc[df_vc['QueryName']>1]"
   ]
  },
  {
   "cell_type": "code",
   "execution_count": 9,
   "id": "2f5a6e4a",
   "metadata": {},
   "outputs": [],
   "source": [
    "#drop Sid Meier's Civilization IV: Colonization dup \n",
    "df=df.drop(965)\n",
    "#drop Fallout: New Vegas dup\n",
    "df=df.drop(952)\n",
    "#drop Sid Meier's Civilization V dup\n",
    "df=df.drop(1205)\n",
    "#drop Darksiders dup\n",
    "df=df.drop(1210)\n",
    "#drop Sid Meier's Civilization IV dup\n",
    "df=df.drop(962)\n",
    "#Drop Monday night combat dup\n",
    "df=df.drop(1278)\n",
    "#Drop Sid Meier's Civilization IV: Beyond the Sword dup\n",
    "df=df.drop(964)\n",
    "#Drop Sid Meier's Civilization IV: Warlords dup\n",
    "df=df.drop(963)\n",
    "#Drop Arma 2 dup\n",
    "df=df.drop(782)\n",
    "#Drop Alpha Protocol dup\n",
    "df=df.drop(961)"
   ]
  },
  {
   "cell_type": "markdown",
   "id": "64c22c4c",
   "metadata": {},
   "source": [
    "### Cleaning Languages"
   ]
  },
  {
   "cell_type": "code",
   "execution_count": 10,
   "id": "281b3bc5",
   "metadata": {},
   "outputs": [],
   "source": [
    "import re\n",
    "pd.set_option('display.max_rows', None)\n",
    "languages = df['SupportedLanguages'].tolist()\n",
    "\n",
    "#Split to check all languages\n",
    "split_lst = []\n",
    "for language in languages:\n",
    "    split_lang = re.split('\\* |\\*|\\s|\\*\\*', language)\n",
    "    for lang in split_lang:\n",
    "        split_lst.append(lang)\n",
    "\n",
    "split_series = pd.Series(split_lst)\n",
    "split_df = pd.DataFrame(split_series.value_counts())\n",
    "#split_df[split_df[0]>0]\n",
    "#lang_list= split_df.index.values.tolist()\n",
    "#print(lang_list)"
   ]
  },
  {
   "cell_type": "code",
   "execution_count": 11,
   "id": "9428e493",
   "metadata": {},
   "outputs": [],
   "source": [
    "#Create list of all possible languages\n",
    "language_list=['English', 'German', 'French', 'Spanish',  'Italian', 'Russian', 'Polish', \n",
    "               'Japanese', 'Portuguese-Brazil', 'Czech', 'Korean', 'Simplified Chinese', \n",
    "               'Dutch', 'Traditional Chinese', 'Portuguese', 'Hungarian', 'Turkish', 'Swedish', \n",
    "               'Danish', 'Norwegian', 'Finnish', 'Ukrainian', 'Romanian', 'Thai', 'Greek', \n",
    "               'Bulgarian', 'Arabic',  'Slovakian']"
   ]
  },
  {
   "cell_type": "code",
   "execution_count": 12,
   "id": "eec42e3c",
   "metadata": {},
   "outputs": [],
   "source": [
    "#Create boolean columns for each language\n",
    "for language in language_list:\n",
    "    df[language]=df['SupportedLanguages'].str.contains(language)"
   ]
  },
  {
   "cell_type": "code",
   "execution_count": 13,
   "id": "11e89066",
   "metadata": {},
   "outputs": [],
   "source": [
    "#create boolean column for audio support (will delete later, using this as reference to check regex)\n",
    "df.loc[df['SupportedLanguages'].str.contains(\"languages with full audio support\")==True, 'audio_support?'] = 1\n",
    "df.loc[df['SupportedLanguages'].str.contains(\"languages with full audio support\")==False, 'audio_support?'] = 0"
   ]
  },
  {
   "cell_type": "code",
   "execution_count": 14,
   "id": "3b633dca",
   "metadata": {},
   "outputs": [],
   "source": [
    "#Create transformed language columns without \"languages with full audio support\" statement\n",
    "df['transformed']= df['SupportedLanguages'].str.extract(\"(.+?)\\*languages with full audio support\")"
   ]
  },
  {
   "cell_type": "code",
   "execution_count": 15,
   "id": "cb0327d8",
   "metadata": {},
   "outputs": [],
   "source": [
    "#Count * in transformed column to count number of languages with audio support\n",
    "df['num_lang_audio_support']=df['transformed'].str.count('\\*')\n",
    "df['num_lang_audio_support'] = df['num_lang_audio_support'].fillna(0)"
   ]
  },
  {
   "cell_type": "code",
   "execution_count": 16,
   "id": "a7334ffd",
   "metadata": {},
   "outputs": [],
   "source": [
    "#Convert bool to numeric and sum\n",
    "df[['English', 'German', 'French', 'Spanish',  'Italian', 'Russian', 'Polish', \n",
    "               'Japanese', 'Portuguese-Brazil', 'Czech', 'Korean', 'Simplified Chinese', \n",
    "               'Dutch', 'Traditional Chinese', 'Portuguese', 'Hungarian', 'Turkish', 'Swedish', \n",
    "               'Danish', 'Norwegian', 'Finnish', 'Ukrainian', 'Romanian', 'Thai', 'Greek', \n",
    "               'Bulgarian', 'Arabic',  'Slovakian']] = df[['English', 'German', 'French', 'Spanish',  'Italian', 'Russian', 'Polish', \n",
    "               'Japanese', 'Portuguese-Brazil', 'Czech', 'Korean', 'Simplified Chinese', \n",
    "               'Dutch', 'Traditional Chinese', 'Portuguese', 'Hungarian', 'Turkish', 'Swedish', \n",
    "               'Danish', 'Norwegian', 'Finnish', 'Ukrainian', 'Romanian', 'Thai', 'Greek', \n",
    "               'Bulgarian', 'Arabic',  'Slovakian']].replace({True: 1, False: 0})\n",
    "\n",
    "df['num_languages']=df[['English', 'German', 'French', 'Spanish',  'Italian', 'Russian', 'Polish', \n",
    "               'Japanese', 'Portuguese-Brazil', 'Czech', 'Korean', 'Simplified Chinese', \n",
    "               'Dutch', 'Traditional Chinese', 'Portuguese', 'Hungarian', 'Turkish', 'Swedish', \n",
    "               'Danish', 'Norwegian', 'Finnish', 'Ukrainian', 'Romanian', 'Thai', 'Greek', \n",
    "               'Bulgarian', 'Arabic',  'Slovakian']].sum(axis=1)"
   ]
  },
  {
   "cell_type": "code",
   "execution_count": 17,
   "id": "64b147d6",
   "metadata": {},
   "outputs": [],
   "source": [
    "#Drop columns used in transformations\n",
    "df=df.drop(\"transformed\", axis=1)\n",
    "df=df.drop(\"audio_support?\", axis=1)"
   ]
  },
  {
   "cell_type": "markdown",
   "id": "ce8250e5",
   "metadata": {},
   "source": [
    "### Cleaning Dates"
   ]
  },
  {
   "cell_type": "code",
   "execution_count": 18,
   "id": "883f7358",
   "metadata": {},
   "outputs": [
    {
     "data": {
      "text/plain": [
       "305                Feb 2011\n",
       "529                        \n",
       "572                        \n",
       "668                Jun 2009\n",
       "687                Jul 2010\n",
       "904                Sep 2009\n",
       "1008                       \n",
       "1180               Mar 2010\n",
       "1199                       \n",
       "1228               Apr 2010\n",
       "1253               Jul 2010\n",
       "1268               Oct 2010\n",
       "1269               Oct 2010\n",
       "1578                       \n",
       "1856                       \n",
       "1922                       \n",
       "1993                       \n",
       "2171                       \n",
       "2183                       \n",
       "2201                       \n",
       "2214                       \n",
       "2317               Aug 2013\n",
       "3805               Nov 2014\n",
       "4103               May 2015\n",
       "4943               Jun 2015\n",
       "12068    December 20th 2016\n",
       "Name: ReleaseDate, dtype: object"
      ]
     },
     "execution_count": 18,
     "metadata": {},
     "output_type": "execute_result"
    }
   ],
   "source": [
    "#Check for dates with inaccurate format\n",
    "df['ReleaseDate'][df['ReleaseDate'].str.fullmatch('[a-zA-Z]{3}\\s\\d*?\\s\\d{4}')==False]"
   ]
  },
  {
   "cell_type": "code",
   "execution_count": 19,
   "id": "ede666d1",
   "metadata": {},
   "outputs": [],
   "source": [
    "#Convert these dates to accurate format, replace blanks with NAs\n",
    "df['ReleaseDate']= df['ReleaseDate'].replace({'Oct 2010': 'Oct 1 2010', 'Jul 2010':'Jul 1 2010', 'Aug 2013': 'Aug 2013',\n",
    "                          'Jun 2015': 'Jun 1 2015', 'December 20th 2016': 'Dec 20 2016',\n",
    "                          'May 2015': 'May 1 2015', 'Nov 2014': 'Nov 1 2014', 'Sep 2009':'Sep 1 2009',\n",
    "                          'Jun 2009': 'Jun 1 2009', 'Feb 2011':'Feb 1 2011', 'Mar 2010':'Mar 1 2010',\n",
    "                          'Apr 2010': 'Apr 1 2010', 'Aug 2013': 'Aug 1 2013'})\n",
    "df['ReleaseDate'] = df['ReleaseDate'].replace(r'^\\s*$', np.nan, regex=True)"
   ]
  },
  {
   "cell_type": "code",
   "execution_count": 20,
   "id": "41829891",
   "metadata": {},
   "outputs": [],
   "source": [
    "#Convert to datetime\n",
    "df['ReleaseDate'] = pd.to_datetime(df['ReleaseDate'])"
   ]
  },
  {
   "cell_type": "code",
   "execution_count": 21,
   "id": "2269c7ae",
   "metadata": {},
   "outputs": [
    {
     "data": {
      "text/plain": [
       "dtype('<M8[ns]')"
      ]
     },
     "execution_count": 21,
     "metadata": {},
     "output_type": "execute_result"
    }
   ],
   "source": [
    "#check data type\n",
    "df['ReleaseDate'].dtype"
   ]
  },
  {
   "cell_type": "code",
   "execution_count": 22,
   "id": "7e1345b9",
   "metadata": {},
   "outputs": [
    {
     "data": {
      "text/html": [
       "<div>\n",
       "<style scoped>\n",
       "    .dataframe tbody tr th:only-of-type {\n",
       "        vertical-align: middle;\n",
       "    }\n",
       "\n",
       "    .dataframe tbody tr th {\n",
       "        vertical-align: top;\n",
       "    }\n",
       "\n",
       "    .dataframe thead th {\n",
       "        text-align: right;\n",
       "    }\n",
       "</style>\n",
       "<table border=\"1\" class=\"dataframe\">\n",
       "  <thead>\n",
       "    <tr style=\"text-align: right;\">\n",
       "      <th></th>\n",
       "      <th>Metacritic</th>\n",
       "      <th>RequiredAge</th>\n",
       "      <th>DemoCount</th>\n",
       "      <th>DeveloperCount</th>\n",
       "      <th>DLCCount</th>\n",
       "      <th>MovieCount</th>\n",
       "      <th>PackageCount</th>\n",
       "      <th>RecommendationCount</th>\n",
       "      <th>ScreenshotCount</th>\n",
       "      <th>SteamSpyOwners</th>\n",
       "      <th>...</th>\n",
       "      <th>Finnish</th>\n",
       "      <th>Ukrainian</th>\n",
       "      <th>Romanian</th>\n",
       "      <th>Thai</th>\n",
       "      <th>Greek</th>\n",
       "      <th>Bulgarian</th>\n",
       "      <th>Arabic</th>\n",
       "      <th>Slovakian</th>\n",
       "      <th>num_lang_audio_support</th>\n",
       "      <th>num_languages</th>\n",
       "    </tr>\n",
       "  </thead>\n",
       "  <tbody>\n",
       "    <tr>\n",
       "      <th>count</th>\n",
       "      <td>2235.000000</td>\n",
       "      <td>2235.000000</td>\n",
       "      <td>2235.000000</td>\n",
       "      <td>2235.000000</td>\n",
       "      <td>2235.000000</td>\n",
       "      <td>2235.000000</td>\n",
       "      <td>2235.000000</td>\n",
       "      <td>2.235000e+03</td>\n",
       "      <td>2235.000000</td>\n",
       "      <td>2.235000e+03</td>\n",
       "      <td>...</td>\n",
       "      <td>2235.000000</td>\n",
       "      <td>2235.000000</td>\n",
       "      <td>2235.000000</td>\n",
       "      <td>2235.000000</td>\n",
       "      <td>2235.000000</td>\n",
       "      <td>2235.000000</td>\n",
       "      <td>2235.000000</td>\n",
       "      <td>2235.000000</td>\n",
       "      <td>2235.000000</td>\n",
       "      <td>2235.000000</td>\n",
       "    </tr>\n",
       "    <tr>\n",
       "      <th>mean</th>\n",
       "      <td>72.008501</td>\n",
       "      <td>2.508277</td>\n",
       "      <td>0.186577</td>\n",
       "      <td>1.087696</td>\n",
       "      <td>1.502013</td>\n",
       "      <td>1.798210</td>\n",
       "      <td>1.680984</td>\n",
       "      <td>4.552546e+03</td>\n",
       "      <td>11.968680</td>\n",
       "      <td>5.867512e+05</td>\n",
       "      <td>...</td>\n",
       "      <td>0.027740</td>\n",
       "      <td>0.015660</td>\n",
       "      <td>0.013870</td>\n",
       "      <td>0.008949</td>\n",
       "      <td>0.008949</td>\n",
       "      <td>0.008949</td>\n",
       "      <td>0.008501</td>\n",
       "      <td>0.000447</td>\n",
       "      <td>1.216555</td>\n",
       "      <td>4.945861</td>\n",
       "    </tr>\n",
       "    <tr>\n",
       "      <th>std</th>\n",
       "      <td>11.152135</td>\n",
       "      <td>5.984335</td>\n",
       "      <td>0.391950</td>\n",
       "      <td>0.362037</td>\n",
       "      <td>5.995998</td>\n",
       "      <td>1.829089</td>\n",
       "      <td>1.023349</td>\n",
       "      <td>3.541729e+04</td>\n",
       "      <td>7.336697</td>\n",
       "      <td>2.455699e+06</td>\n",
       "      <td>...</td>\n",
       "      <td>0.164265</td>\n",
       "      <td>0.124184</td>\n",
       "      <td>0.116979</td>\n",
       "      <td>0.094194</td>\n",
       "      <td>0.094194</td>\n",
       "      <td>0.094194</td>\n",
       "      <td>0.091829</td>\n",
       "      <td>0.021152</td>\n",
       "      <td>2.172011</td>\n",
       "      <td>4.165792</td>\n",
       "    </tr>\n",
       "    <tr>\n",
       "      <th>min</th>\n",
       "      <td>20.000000</td>\n",
       "      <td>0.000000</td>\n",
       "      <td>0.000000</td>\n",
       "      <td>0.000000</td>\n",
       "      <td>0.000000</td>\n",
       "      <td>0.000000</td>\n",
       "      <td>0.000000</td>\n",
       "      <td>0.000000e+00</td>\n",
       "      <td>2.000000</td>\n",
       "      <td>0.000000e+00</td>\n",
       "      <td>...</td>\n",
       "      <td>0.000000</td>\n",
       "      <td>0.000000</td>\n",
       "      <td>0.000000</td>\n",
       "      <td>0.000000</td>\n",
       "      <td>0.000000</td>\n",
       "      <td>0.000000</td>\n",
       "      <td>0.000000</td>\n",
       "      <td>0.000000</td>\n",
       "      <td>0.000000</td>\n",
       "      <td>1.000000</td>\n",
       "    </tr>\n",
       "    <tr>\n",
       "      <th>25%</th>\n",
       "      <td>66.000000</td>\n",
       "      <td>0.000000</td>\n",
       "      <td>0.000000</td>\n",
       "      <td>1.000000</td>\n",
       "      <td>0.000000</td>\n",
       "      <td>1.000000</td>\n",
       "      <td>1.000000</td>\n",
       "      <td>1.370000e+02</td>\n",
       "      <td>8.000000</td>\n",
       "      <td>3.560100e+04</td>\n",
       "      <td>...</td>\n",
       "      <td>0.000000</td>\n",
       "      <td>0.000000</td>\n",
       "      <td>0.000000</td>\n",
       "      <td>0.000000</td>\n",
       "      <td>0.000000</td>\n",
       "      <td>0.000000</td>\n",
       "      <td>0.000000</td>\n",
       "      <td>0.000000</td>\n",
       "      <td>0.000000</td>\n",
       "      <td>1.000000</td>\n",
       "    </tr>\n",
       "    <tr>\n",
       "      <th>50%</th>\n",
       "      <td>73.000000</td>\n",
       "      <td>0.000000</td>\n",
       "      <td>0.000000</td>\n",
       "      <td>1.000000</td>\n",
       "      <td>0.000000</td>\n",
       "      <td>1.000000</td>\n",
       "      <td>1.000000</td>\n",
       "      <td>5.180000e+02</td>\n",
       "      <td>10.000000</td>\n",
       "      <td>1.303870e+05</td>\n",
       "      <td>...</td>\n",
       "      <td>0.000000</td>\n",
       "      <td>0.000000</td>\n",
       "      <td>0.000000</td>\n",
       "      <td>0.000000</td>\n",
       "      <td>0.000000</td>\n",
       "      <td>0.000000</td>\n",
       "      <td>0.000000</td>\n",
       "      <td>0.000000</td>\n",
       "      <td>0.000000</td>\n",
       "      <td>5.000000</td>\n",
       "    </tr>\n",
       "    <tr>\n",
       "      <th>75%</th>\n",
       "      <td>80.000000</td>\n",
       "      <td>0.000000</td>\n",
       "      <td>0.000000</td>\n",
       "      <td>1.000000</td>\n",
       "      <td>1.000000</td>\n",
       "      <td>2.000000</td>\n",
       "      <td>2.000000</td>\n",
       "      <td>2.118500e+03</td>\n",
       "      <td>14.000000</td>\n",
       "      <td>4.602110e+05</td>\n",
       "      <td>...</td>\n",
       "      <td>0.000000</td>\n",
       "      <td>0.000000</td>\n",
       "      <td>0.000000</td>\n",
       "      <td>0.000000</td>\n",
       "      <td>0.000000</td>\n",
       "      <td>0.000000</td>\n",
       "      <td>0.000000</td>\n",
       "      <td>0.000000</td>\n",
       "      <td>1.000000</td>\n",
       "      <td>7.000000</td>\n",
       "    </tr>\n",
       "    <tr>\n",
       "      <th>max</th>\n",
       "      <td>96.000000</td>\n",
       "      <td>18.000000</td>\n",
       "      <td>2.000000</td>\n",
       "      <td>5.000000</td>\n",
       "      <td>169.000000</td>\n",
       "      <td>20.000000</td>\n",
       "      <td>11.000000</td>\n",
       "      <td>1.427633e+06</td>\n",
       "      <td>114.000000</td>\n",
       "      <td>9.068758e+07</td>\n",
       "      <td>...</td>\n",
       "      <td>1.000000</td>\n",
       "      <td>1.000000</td>\n",
       "      <td>1.000000</td>\n",
       "      <td>1.000000</td>\n",
       "      <td>1.000000</td>\n",
       "      <td>1.000000</td>\n",
       "      <td>1.000000</td>\n",
       "      <td>1.000000</td>\n",
       "      <td>27.000000</td>\n",
       "      <td>27.000000</td>\n",
       "    </tr>\n",
       "  </tbody>\n",
       "</table>\n",
       "<p>8 rows × 45 columns</p>\n",
       "</div>"
      ],
      "text/plain": [
       "        Metacritic  RequiredAge    DemoCount  DeveloperCount     DLCCount  \\\n",
       "count  2235.000000  2235.000000  2235.000000     2235.000000  2235.000000   \n",
       "mean     72.008501     2.508277     0.186577        1.087696     1.502013   \n",
       "std      11.152135     5.984335     0.391950        0.362037     5.995998   \n",
       "min      20.000000     0.000000     0.000000        0.000000     0.000000   \n",
       "25%      66.000000     0.000000     0.000000        1.000000     0.000000   \n",
       "50%      73.000000     0.000000     0.000000        1.000000     0.000000   \n",
       "75%      80.000000     0.000000     0.000000        1.000000     1.000000   \n",
       "max      96.000000    18.000000     2.000000        5.000000   169.000000   \n",
       "\n",
       "        MovieCount  PackageCount  RecommendationCount  ScreenshotCount  \\\n",
       "count  2235.000000   2235.000000         2.235000e+03      2235.000000   \n",
       "mean      1.798210      1.680984         4.552546e+03        11.968680   \n",
       "std       1.829089      1.023349         3.541729e+04         7.336697   \n",
       "min       0.000000      0.000000         0.000000e+00         2.000000   \n",
       "25%       1.000000      1.000000         1.370000e+02         8.000000   \n",
       "50%       1.000000      1.000000         5.180000e+02        10.000000   \n",
       "75%       2.000000      2.000000         2.118500e+03        14.000000   \n",
       "max      20.000000     11.000000         1.427633e+06       114.000000   \n",
       "\n",
       "       SteamSpyOwners  ...      Finnish    Ukrainian     Romanian  \\\n",
       "count    2.235000e+03  ...  2235.000000  2235.000000  2235.000000   \n",
       "mean     5.867512e+05  ...     0.027740     0.015660     0.013870   \n",
       "std      2.455699e+06  ...     0.164265     0.124184     0.116979   \n",
       "min      0.000000e+00  ...     0.000000     0.000000     0.000000   \n",
       "25%      3.560100e+04  ...     0.000000     0.000000     0.000000   \n",
       "50%      1.303870e+05  ...     0.000000     0.000000     0.000000   \n",
       "75%      4.602110e+05  ...     0.000000     0.000000     0.000000   \n",
       "max      9.068758e+07  ...     1.000000     1.000000     1.000000   \n",
       "\n",
       "              Thai        Greek    Bulgarian       Arabic    Slovakian  \\\n",
       "count  2235.000000  2235.000000  2235.000000  2235.000000  2235.000000   \n",
       "mean      0.008949     0.008949     0.008949     0.008501     0.000447   \n",
       "std       0.094194     0.094194     0.094194     0.091829     0.021152   \n",
       "min       0.000000     0.000000     0.000000     0.000000     0.000000   \n",
       "25%       0.000000     0.000000     0.000000     0.000000     0.000000   \n",
       "50%       0.000000     0.000000     0.000000     0.000000     0.000000   \n",
       "75%       0.000000     0.000000     0.000000     0.000000     0.000000   \n",
       "max       1.000000     1.000000     1.000000     1.000000     1.000000   \n",
       "\n",
       "       num_lang_audio_support  num_languages  \n",
       "count             2235.000000    2235.000000  \n",
       "mean                 1.216555       4.945861  \n",
       "std                  2.172011       4.165792  \n",
       "min                  0.000000       1.000000  \n",
       "25%                  0.000000       1.000000  \n",
       "50%                  0.000000       5.000000  \n",
       "75%                  1.000000       7.000000  \n",
       "max                 27.000000      27.000000  \n",
       "\n",
       "[8 rows x 45 columns]"
      ]
     },
     "execution_count": 22,
     "metadata": {},
     "output_type": "execute_result"
    }
   ],
   "source": [
    "df.describe()"
   ]
  },
  {
   "cell_type": "markdown",
   "id": "82b849db",
   "metadata": {},
   "source": [
    "## Final Cleaning"
   ]
  },
  {
   "cell_type": "code",
   "execution_count": 23,
   "id": "3b0a0aa6",
   "metadata": {},
   "outputs": [
    {
     "name": "stderr",
     "output_type": "stream",
     "text": [
      "/var/folders/z4/dn_6f5qs1cq2pv3rhcbft8w40000gn/T/ipykernel_31248/3443521371.py:2: FutureWarning: The parsing of 'now' in pd.to_datetime without `utc=True` is deprecated. In a future version, this will match Timestamp('now') and Timestamp.now()\n",
      "  now = pd.to_datetime('now')\n"
     ]
    },
    {
     "data": {
      "text/plain": [
       "(2235, 97)"
      ]
     },
     "execution_count": 23,
     "metadata": {},
     "output_type": "execute_result"
    }
   ],
   "source": [
    "#Create game_age variable\n",
    "now = pd.to_datetime('now')\n",
    "df['Game_Age']=(now - df['ReleaseDate']).dt.total_seconds() / (60*60*24*365.25)\n",
    "\n",
    "#make columns for month, drop date column\n",
    "#df_lr['Year'] = df_lr['ReleaseDate'].dt.year \n",
    "df['Month'] = df['ReleaseDate'].dt.month_name()\n",
    "df=df.drop('ReleaseDate', axis=1)\n",
    "\n",
    "#Make dummy variables for months\n",
    "df = pd.concat([df, pd.get_dummies(df['Month'])], axis=1)\n",
    "df = df.drop('Month', axis=1)\n",
    "\n",
    "#Make booleans numeric\n",
    "df=df.replace({True: 1, False: 0})\n",
    "\n",
    "#shuffle rows\n",
    "df_shuffled= df.sample(frac=1, random_state=1).reset_index()\n",
    "df_shuffled.shape"
   ]
  },
  {
   "cell_type": "markdown",
   "id": "b3aa499e",
   "metadata": {},
   "source": [
    "# Creating Metacritic Binary Variable"
   ]
  },
  {
   "cell_type": "code",
   "execution_count": 24,
   "id": "3b86648f",
   "metadata": {},
   "outputs": [
    {
     "data": {
      "text/plain": [
       "(array([  0.,   0.,   5.,  18.,  67., 209., 517., 814., 536.,  69.]),\n",
       " array([  0.,  10.,  20.,  30.,  40.,  50.,  60.,  70.,  80.,  90., 100.]),\n",
       " <BarContainer object of 10 artists>)"
      ]
     },
     "execution_count": 24,
     "metadata": {},
     "output_type": "execute_result"
    },
    {
     "data": {
      "image/png": "[encoded data removed]",
      "text/plain": [
       "<Figure size 640x480 with 1 Axes>"
      ]
     },
     "metadata": {},
     "output_type": "display_data"
    }
   ],
   "source": [
    "#plot metacritic values\n",
    "plt.hist(df['Metacritic'], bins=[0,10,20,30,40,50,60,70,80,90,100])"
   ]
  },
  {
   "cell_type": "code",
   "execution_count": 25,
   "id": "0ba7a0a8",
   "metadata": {},
   "outputs": [],
   "source": [
    "#separate into pos, neg, neutral. Will drop neutral later\n",
    "conditions = [(df['Metacritic']<=65),\n",
    "              (df['Metacritic']>65)&(df['Metacritic']<80),\n",
    "              (df['Metacritic']>=80)\n",
    "             ]\n",
    "choices = [0, -1, 1]\n",
    "df['Metacritic_binary'] = np.select(conditions, choices, default=-1)"
   ]
  },
  {
   "cell_type": "code",
   "execution_count": 26,
   "id": "d5973d5c",
   "metadata": {},
   "outputs": [
    {
     "data": {
      "text/plain": [
       "(array([1088.,    0.,    0.,    0.,    0.,  542.,    0.,    0.,    0.,\n",
       "         605.]),\n",
       " array([-1. , -0.8, -0.6, -0.4, -0.2,  0. ,  0.2,  0.4,  0.6,  0.8,  1. ]),\n",
       " <BarContainer object of 10 artists>)"
      ]
     },
     "execution_count": 26,
     "metadata": {},
     "output_type": "execute_result"
    },
    {
     "data": {
      "image/png": "[encoded data removed]",
      "text/plain": [
       "<Figure size 640x480 with 1 Axes>"
      ]
     },
     "metadata": {},
     "output_type": "display_data"
    }
   ],
   "source": [
    "#plot binary values to check for even distribution\n",
    "plt.hist(df['Metacritic_binary'])"
   ]
  },
  {
   "cell_type": "markdown",
   "id": "43bdc994",
   "metadata": {},
   "source": [
    "# Embeddings Model"
   ]
  },
  {
   "cell_type": "code",
   "execution_count": 27,
   "id": "82472425",
   "metadata": {},
   "outputs": [
    {
     "name": "stderr",
     "output_type": "stream",
     "text": [
      "2023-04-06 19:28:53.342832: I tensorflow/core/platform/cpu_feature_guard.cc:193] This TensorFlow binary is optimized with oneAPI Deep Neural Network Library (oneDNN) to use the following CPU instructions in performance-critical operations:  SSE4.1 SSE4.2\n",
      "To enable them in other operations, rebuild TensorFlow with the appropriate compiler flags.\n",
      "/Users/amandamurray/opt/anaconda3/envs/w207_final/lib/python3.10/site-packages/tqdm/auto.py:22: TqdmWarning: IProgress not found. Please update jupyter and ipywidgets. See https://ipywidgets.readthedocs.io/en/stable/user_install.html\n",
      "  from .autonotebook import tqdm as notebook_tqdm\n"
     ]
    },
    {
     "name": "stdout",
     "output_type": "stream",
     "text": [
      "Requirement already satisfied: wordcloud in /Users/amandamurray/opt/anaconda3/envs/w207_final/lib/python3.10/site-packages (1.8.2.2)\n",
      "Requirement already satisfied: numpy>=1.6.1 in /Users/amandamurray/opt/anaconda3/envs/w207_final/lib/python3.10/site-packages (from wordcloud) (1.23.5)\n",
      "Requirement already satisfied: matplotlib in /Users/amandamurray/opt/anaconda3/envs/w207_final/lib/python3.10/site-packages (from wordcloud) (3.6.2)\n",
      "Requirement already satisfied: pillow in /Users/amandamurray/opt/anaconda3/envs/w207_final/lib/python3.10/site-packages (from wordcloud) (9.3.0)\n",
      "Requirement already satisfied: fonttools>=4.22.0 in /Users/amandamurray/opt/anaconda3/envs/w207_final/lib/python3.10/site-packages (from matplotlib->wordcloud) (4.25.0)\n",
      "Requirement already satisfied: cycler>=0.10 in /Users/amandamurray/opt/anaconda3/envs/w207_final/lib/python3.10/site-packages (from matplotlib->wordcloud) (0.11.0)\n",
      "Requirement already satisfied: packaging>=20.0 in /Users/amandamurray/opt/anaconda3/envs/w207_final/lib/python3.10/site-packages (from matplotlib->wordcloud) (22.0)\n",
      "Requirement already satisfied: contourpy>=1.0.1 in /Users/amandamurray/opt/anaconda3/envs/w207_final/lib/python3.10/site-packages (from matplotlib->wordcloud) (1.0.5)\n",
      "Requirement already satisfied: kiwisolver>=1.0.1 in /Users/amandamurray/opt/anaconda3/envs/w207_final/lib/python3.10/site-packages (from matplotlib->wordcloud) (1.4.4)\n",
      "Requirement already satisfied: python-dateutil>=2.7 in /Users/amandamurray/opt/anaconda3/envs/w207_final/lib/python3.10/site-packages (from matplotlib->wordcloud) (2.8.2)\n",
      "Requirement already satisfied: pyparsing>=2.2.1 in /Users/amandamurray/opt/anaconda3/envs/w207_final/lib/python3.10/site-packages (from matplotlib->wordcloud) (3.0.9)\n",
      "Requirement already satisfied: six>=1.5 in /Users/amandamurray/opt/anaconda3/envs/w207_final/lib/python3.10/site-packages (from python-dateutil>=2.7->matplotlib->wordcloud) (1.16.0)\n"
     ]
    }
   ],
   "source": [
    "# standard\n",
    "import pandas as pd\n",
    "import numpy as np\n",
    "import random\n",
    "import os\n",
    "\n",
    "# tf and keras\n",
    "import tensorflow as tf\n",
    "from tensorflow.keras import Sequential\n",
    "from tensorflow.keras.layers import Dense\n",
    "from tensorflow.keras.layers import Embedding\n",
    "from tensorflow.keras.layers import GlobalAveragePooling1D\n",
    "from tensorflow.keras.layers import Dropout\n",
    "import tensorflow_datasets as tfds\n",
    "\n",
    "# shap\n",
    "import shap\n",
    "\n",
    "# plots and images\n",
    "import seaborn as sns\n",
    "import matplotlib.pyplot as plt\n",
    "from IPython.display import Image\n",
    "\n",
    "# others\n",
    "!pip install wordcloud\n",
    "import re\n",
    "from sklearn.decomposition import PCA\n",
    "from wordcloud import WordCloud\n",
    "from collections import Counter\n",
    "import warnings\n",
    "warnings.filterwarnings(\"ignore\")\n",
    "\n",
    "#silence TF\n",
    "os.environ['TF_CPP_MIN_LOG_LEVEL'] = '3' \n",
    "\n",
    "\n",
    "random.seed(2)\n",
    "%matplotlib inline"
   ]
  },
  {
   "cell_type": "code",
   "execution_count": 28,
   "id": "0e8afa2c",
   "metadata": {},
   "outputs": [],
   "source": [
    "def preprocessor(text):\n",
    "    text = re.sub('<[^>]*>', '', text)\n",
    "    emoticons = re.findall('(?::|;|=)(?:-)?(?:\\)|\\(|D|P)',\n",
    "                           text)\n",
    "    text = (re.sub('[\\W]+', ' ', text.lower()) +\n",
    "            ' '.join(emoticons).replace('-', ''))\n",
    "    return text"
   ]
  },
  {
   "cell_type": "code",
   "execution_count": 29,
   "id": "ee788b8f",
   "metadata": {},
   "outputs": [],
   "source": [
    "# define function for token encoder\n",
    "def encode(text_tensor, label):\n",
    "    text = text_tensor.numpy()[0]\n",
    "    encoded_text = encoder.encode(text)\n",
    "    return encoded_text, label\n",
    "\n",
    "#  wrap the encode function to a TF Operator\n",
    "def encode_map_fn(text, label):\n",
    "    return tf.py_function(encode, inp=[text, label], \n",
    "                          Tout=(tf.int64, tf.int64))"
   ]
  },
  {
   "cell_type": "code",
   "execution_count": 30,
   "id": "3f730d66",
   "metadata": {},
   "outputs": [],
   "source": [
    "df_emb = df[['Metacritic_binary', 'AboutText']]\n",
    "\n",
    "#drop neutral values\n",
    "df_emb = df_emb[df_emb['Metacritic_binary']>=0]"
   ]
  },
  {
   "cell_type": "code",
   "execution_count": 31,
   "id": "d900470e",
   "metadata": {},
   "outputs": [],
   "source": [
    "#apply preprocessor\n",
    "df_emb['AboutText'] = df_emb['AboutText'].apply(preprocessor)"
   ]
  },
  {
   "cell_type": "markdown",
   "id": "e7c25d62",
   "metadata": {},
   "source": [
    "### create tensorflow dataset"
   ]
  },
  {
   "cell_type": "code",
   "execution_count": 32,
   "id": "61ff9e1c",
   "metadata": {},
   "outputs": [],
   "source": [
    "# define target\n",
    "target = df_emb.pop('Metacritic_binary') # .pop removes sentiment col from df\n",
    "\n",
    "# target and review combined tensors\n",
    "data_tf = tf.data.Dataset.from_tensor_slices(\n",
    "    (df_emb[['AboutText']].values, target.values)\n",
    ")"
   ]
  },
  {
   "cell_type": "code",
   "execution_count": 33,
   "id": "1b6213be",
   "metadata": {},
   "outputs": [
    {
     "name": "stdout",
     "output_type": "stream",
     "text": [
      "b'play the worlds number 1 online action g' 1\n",
      "b'named game of the year by over 50 public' 1\n",
      "b'with its extensive tour of duty campaign' 0\n",
      "b'1998 half life sends a shock through the' 1\n",
      "b'the next installment of the worlds 1 onl' 1\n"
     ]
    }
   ],
   "source": [
    "# inspection of the first 5 examples\n",
    "for example in data_tf.take(5):\n",
    "    # print review (first 40 characters) and sentiment (label)\n",
    "    tf.print(example[0].numpy()[0][:40], example[1])"
   ]
  },
  {
   "cell_type": "code",
   "execution_count": 34,
   "id": "89f5c0cc",
   "metadata": {},
   "outputs": [],
   "source": [
    "# set random seed\n",
    "tf.random.set_seed(1)\n",
    "\n",
    "# define splits for training, validation, test\n",
    "splits=[0.6, 0.2, 0.2] \n",
    "\n",
    "# shuffle data\n",
    "data_tf = data_tf.shuffle(\n",
    "    df_emb.shape[0], reshuffle_each_iteration=False)\n",
    "\n",
    "data_tf_test = data_tf.take(int(df_emb.shape[0]*splits[2]))\n",
    "data_tf_train_valid = data_tf.skip(int(df_emb.shape[0]*splits[2]))\n",
    "data_tf_train = data_tf_train_valid.take(int(df_emb.shape[0]*splits[0]))\n",
    "data_tf_valid = data_tf_train_valid.skip(int(df_emb.shape[0]*splits[0]))"
   ]
  },
  {
   "cell_type": "markdown",
   "id": "5b40cd7e",
   "metadata": {},
   "source": [
    "### Tokens"
   ]
  },
  {
   "cell_type": "code",
   "execution_count": 35,
   "id": "61e0042d",
   "metadata": {},
   "outputs": [
    {
     "name": "stdout",
     "output_type": "stream",
     "text": [
      "Size of training vocabulary: 16205\n"
     ]
    }
   ],
   "source": [
    "# try and except the TF tokenizer\n",
    "try:\n",
    "    tokenizer = tfds.features.text.Tokenizer()\n",
    "except AttributeError:\n",
    "    tokenizer = tfds.deprecated.text.Tokenizer()\n",
    "\n",
    "# create an instance of the Counter class\n",
    "token_counts = Counter()\n",
    "\n",
    "for example in data_tf_train:\n",
    "    tokens = tokenizer.tokenize(example[0].numpy()[0])\n",
    "    token_counts.update(tokens)\n",
    "    \n",
    "print('Size of training vocabulary:', len(token_counts))"
   ]
  },
  {
   "cell_type": "code",
   "execution_count": 36,
   "id": "cc3be904",
   "metadata": {},
   "outputs": [
    {
     "data": {
      "text/plain": [
       "[16206,\n",
       " 2455,\n",
       " 7561,\n",
       " 716,\n",
       " 104,\n",
       " 821,\n",
       " 2323,\n",
       " 7137,\n",
       " 42,\n",
       " 42,\n",
       " 4315,\n",
       " 2496,\n",
       " 16206,\n",
       " 16206]"
      ]
     },
     "execution_count": 36,
     "metadata": {},
     "output_type": "execute_result"
    }
   ],
   "source": [
    "# create an instance of the TF encoder class\n",
    "try:\n",
    "    encoder = tfds.features.text.TokenTextEncoder(token_counts) # token_counts contains our training vocabulary\n",
    "except AttributeError:\n",
    "    encoder = tfds.deprecated.text.TokenTextEncoder(token_counts)\n",
    "\n",
    "# try an example first (first 12 characters from the second review in training data)\n",
    "example_str = 'My son took generic for about 6 months.  his his dr actually prescribed prescribed'\n",
    "encoder.encode(example_str) # the encode method transforms the text into integers"
   ]
  },
  {
   "cell_type": "code",
   "execution_count": 37,
   "id": "b222e806",
   "metadata": {},
   "outputs": [],
   "source": [
    "data_tf_train = data_tf_train.map(encode_map_fn)\n",
    "data_tf_valid = data_tf_valid.map(encode_map_fn)\n",
    "data_tf_test = data_tf_test.map(encode_map_fn)"
   ]
  },
  {
   "cell_type": "code",
   "execution_count": 38,
   "id": "a19f0a09",
   "metadata": {},
   "outputs": [],
   "source": [
    "# define batch size\n",
    "batch_size = 2\n",
    "\n",
    "# batcing of training, validation and test partitions\n",
    "train_data = data_tf_train.padded_batch(\n",
    "    batch_size,\n",
    "    padded_shapes=([-1],[]))\n",
    "\n",
    "valid_data = data_tf_valid.padded_batch(\n",
    "    batch_size,\n",
    "    padded_shapes=([-1],[]))\n",
    "\n",
    "test_data = data_tf_test.padded_batch(\n",
    "    batch_size,\n",
    "    padded_shapes=([-1],[]))"
   ]
  },
  {
   "cell_type": "code",
   "execution_count": 39,
   "id": "56b95cd4",
   "metadata": {},
   "outputs": [
    {
     "name": "stdout",
     "output_type": "stream",
     "text": [
      "Average sequence length in training mini-batches: 333\n"
     ]
    },
    {
     "data": {
      "image/png": "[encoded data removed]",
      "text/plain": [
       "<Figure size 640x480 with 1 Axes>"
      ]
     },
     "metadata": {},
     "output_type": "display_data"
    }
   ],
   "source": [
    "# histogram of sequence length in training mini-batches\n",
    "seq_len_train = []\n",
    "for batch in train_data:\n",
    "    seq_len_train.append(batch[0].shape[1])\n",
    "    \n",
    "print('Average sequence length in training mini-batches:',\n",
    "      int(sum(seq_len_train)/len(seq_len_train))\n",
    ")\n",
    "\n",
    "# histogram\n",
    "plt.hist(seq_len_train)\n",
    "plt.title('Sequence length in training mini-batches')\n",
    "plt.ylabel('Count')\n",
    "plt.xlabel('Sequence length');"
   ]
  },
  {
   "cell_type": "markdown",
   "id": "5945dcd5",
   "metadata": {},
   "source": [
    "## Model"
   ]
  },
  {
   "cell_type": "code",
   "execution_count": 40,
   "id": "2a3f8401",
   "metadata": {},
   "outputs": [
    {
     "name": "stdout",
     "output_type": "stream",
     "text": [
      "Model: \"sequential\"\n",
      "_________________________________________________________________\n",
      " Layer (type)                Output Shape              Param #   \n",
      "=================================================================\n",
      " embedding (Embedding)       (None, None, 3)           48621     \n",
      "                                                                 \n",
      " global_average_pooling1d (G  (None, 3)                0         \n",
      " lobalAveragePooling1D)                                          \n",
      "                                                                 \n",
      " dropout (Dropout)           (None, 3)                 0         \n",
      "                                                                 \n",
      " dense (Dense)               (None, 8)                 32        \n",
      "                                                                 \n",
      " dropout_1 (Dropout)         (None, 8)                 0         \n",
      "                                                                 \n",
      " dense_1 (Dense)             (None, 1)                 9         \n",
      "                                                                 \n",
      "=================================================================\n",
      "Total params: 48,662\n",
      "Trainable params: 48,662\n",
      "Non-trainable params: 0\n",
      "_________________________________________________________________\n"
     ]
    }
   ],
   "source": [
    "from tensorflow.keras import initializers\n",
    "vocab_size_train = len(token_counts) + 2\n",
    "embedding_dim = 3\n",
    "\n",
    "model = tf.keras.Sequential()\n",
    "# add embedding layer (this is our imput layer)\n",
    "# embeddings will be learned during training\n",
    "# the weights for the embeddings are randomly initialized (just like any other layer!)\n",
    "model.add(Embedding(\n",
    "    vocab_size_train,\n",
    "    embedding_dim,\n",
    "    embeddings_initializer=initializers.RandomNormal(stddev=0.01),\n",
    "    #input_length=100, #limits length of sentence to 100 tokens\n",
    "    name=\"embedding\")\n",
    "    ),\n",
    "\n",
    "\n",
    "# average over the emedding dimension, so each review is represented by a 1 vector of size embedding_dimension\n",
    "model.add(GlobalAveragePooling1D()),\n",
    "\n",
    "#add Dropout for regularization\n",
    "model.add(Dropout(0.6))\n",
    "\n",
    "# add a Dense layer of dimension 16\n",
    "model.add(Dense(8, activation='tanh')),\n",
    "\n",
    "#add Dropout for regularization\n",
    "model.add(Dropout(0.6))\n",
    "\n",
    "# add last layer (binary classification task)\n",
    "model.add(Dense(1, activation='sigmoid'))\n",
    "\n",
    "\n",
    "# save embeddings before training \n",
    "embeddings_untrained = model.get_layer('embedding').get_weights()[0]\n",
    "\n",
    "# print model summary\n",
    "model.summary()"
   ]
  },
  {
   "cell_type": "code",
   "execution_count": 41,
   "id": "d93c6569",
   "metadata": {},
   "outputs": [],
   "source": [
    "initial_learning_rate = 0.005 ## 0.1\n",
    "lr_schedule = tf.keras.optimizers.schedules.ExponentialDecay(\n",
    "    initial_learning_rate,\n",
    "    decay_steps=1000000, #orginally 100000\n",
    "    decay_rate=0.8, #originally 0.96\n",
    "    staircase=True)\n",
    "model.compile(\n",
    "    loss=tf.keras.losses.BinaryCrossentropy(),\n",
    "    optimizer =  tf.keras.optimizers.Adam(learning_rate=lr_schedule), #learning_rate=lr_schedule\n",
    "    metrics=[tf.keras.metrics.BinaryAccuracy()]\n",
    ")"
   ]
  },
  {
   "cell_type": "code",
   "execution_count": 42,
   "id": "9d9898d2",
   "metadata": {},
   "outputs": [
    {
     "name": "stdout",
     "output_type": "stream",
     "text": [
      "Epoch 1/7\n",
      "344/344 [==============================] - 1s 2ms/step - loss: 0.6967 - binary_accuracy: 0.5160 - val_loss: 0.6894 - val_binary_accuracy: 0.5435\n",
      "Epoch 2/7\n",
      "344/344 [==============================] - 1s 2ms/step - loss: 0.6935 - binary_accuracy: 0.5174 - val_loss: 0.6882 - val_binary_accuracy: 0.5435\n",
      "Epoch 3/7\n",
      "344/344 [==============================] - 1s 2ms/step - loss: 0.6877 - binary_accuracy: 0.5683 - val_loss: 0.6813 - val_binary_accuracy: 0.5565\n",
      "Epoch 4/7\n",
      "344/344 [==============================] - 1s 3ms/step - loss: 0.6384 - binary_accuracy: 0.6163 - val_loss: 0.6529 - val_binary_accuracy: 0.6435\n",
      "Epoch 5/7\n",
      "344/344 [==============================] - 1s 3ms/step - loss: 0.5522 - binary_accuracy: 0.6948 - val_loss: 0.6336 - val_binary_accuracy: 0.6652\n",
      "Epoch 6/7\n",
      "344/344 [==============================] - 1s 2ms/step - loss: 0.4368 - binary_accuracy: 0.7834 - val_loss: 0.6412 - val_binary_accuracy: 0.6913\n",
      "Epoch 7/7\n",
      "344/344 [==============================] - 1s 2ms/step - loss: 0.3758 - binary_accuracy: 0.8023 - val_loss: 0.6698 - val_binary_accuracy: 0.6565\n"
     ]
    }
   ],
   "source": [
    "# set random seed to get reproductible results \n",
    "# neural network algorithms are stochastic (e.g., due to random weight initialization); setting a random seed helps to get more stable results after each run\n",
    "# however, best way to deal with randomness is to repeat your experiment many times (30+) and use statistics to summarize the performance of the model\n",
    "tf.random.set_seed(1)\n",
    "np.random.seed(1)\n",
    "history = model.fit(\n",
    "    train_data, \n",
    "    batch_size=20,\n",
    "    validation_data=valid_data, \n",
    "    epochs=7)"
   ]
  },
  {
   "cell_type": "code",
   "execution_count": 43,
   "id": "63e63d97",
   "metadata": {},
   "outputs": [
    {
     "data": {
      "image/png": "[encoded data removed]",
      "text/plain": [
       "<Figure size 1600x400 with 2 Axes>"
      ]
     },
     "metadata": {},
     "output_type": "display_data"
    }
   ],
   "source": [
    "# grab history\n",
    "history = history.history\n",
    "\n",
    "# plot loss for train and validation\n",
    "fig = plt.figure(figsize=(16, 4))\n",
    "ax = fig.add_subplot(1, 3, 1)\n",
    "plt.plot(history['loss'], lw=2, color='darkgoldenrod')\n",
    "plt.plot(history['val_loss'], lw=2, color='indianred')\n",
    "plt.legend(['Train', 'Validation'], fontsize=10)\n",
    "ax.set_xlabel('Epochs', size=10)\n",
    "ax.set_title('Loss');\n",
    "\n",
    "# plot accuracy for train and validation\n",
    "ax = fig.add_subplot(1, 3, 2)\n",
    "plt.plot(history['binary_accuracy'], lw=2, color='darkgoldenrod')\n",
    "plt.plot(history['val_binary_accuracy'], lw=2, color='indianred')\n",
    "plt.legend(['Train', 'Validation'], fontsize=10)\n",
    "ax.set_xlabel('Epochs', size=10)\n",
    "ax.set_title('Accuracy');"
   ]
  },
  {
   "cell_type": "markdown",
   "id": "753373e2",
   "metadata": {},
   "source": [
    "# Evaluation"
   ]
  },
  {
   "cell_type": "code",
   "execution_count": 44,
   "id": "1ce4ed72",
   "metadata": {},
   "outputs": [
    {
     "name": "stdout",
     "output_type": "stream",
     "text": [
      "115/115 [==============================] - 0s 1ms/step - loss: 0.6230 - binary_accuracy: 0.6725\n",
      "\n",
      "Test Acc. 67.25%\n"
     ]
    }
   ],
   "source": [
    "#Evaluate accuracy\n",
    "test_results = model.evaluate(test_data)\n",
    "print('\\nTest Acc. {:.2f}%'.format(test_results[1]*100))"
   ]
  },
  {
   "cell_type": "code",
   "execution_count": 45,
   "id": "761c0f19",
   "metadata": {},
   "outputs": [
    {
     "name": "stdout",
     "output_type": "stream",
     "text": [
      "115/115 [==============================] - 0s 1ms/step\n"
     ]
    }
   ],
   "source": [
    "#get true labels\n",
    "def get_labels_from_tfdataset(tfdataset, batched=False):\n",
    "\n",
    "    labels = list(map(lambda x: x[1], tfdataset)) # Get labels \n",
    "\n",
    "    if not batched:\n",
    "        return tf.concat(labels, axis=0) # concat the list of batched labels\n",
    "\n",
    "    return labels\n",
    "\n",
    "y_test = get_labels_from_tfdataset(test_data, batched=False).numpy()\n",
    "y_predictions = model.predict(x=test_data).flatten()\n",
    "y_predictions = np.where(y_predictions>=0.50, 1, 0)"
   ]
  },
  {
   "cell_type": "code",
   "execution_count": 46,
   "id": "b08fc662",
   "metadata": {},
   "outputs": [
    {
     "name": "stdout",
     "output_type": "stream",
     "text": [
      "Test, misclassified examples: 75\n",
      "Test, prediction accuracy: 0.672\n"
     ]
    }
   ],
   "source": [
    "#double check accuracy\n",
    "print('Test, misclassified examples: %d' % (y_test != y_predictions).sum())\n",
    "error_test_tf = (y_test != y_predictions).sum()/len(y_predictions)\n",
    "print('Test, prediction accuracy: %.3f'% (1-error_test_tf))"
   ]
  },
  {
   "cell_type": "code",
   "execution_count": 47,
   "id": "c21bee00",
   "metadata": {},
   "outputs": [
    {
     "data": {
      "image/png": "[encoded data removed]",
      "text/plain": [
       "<Figure size 250x250 with 1 Axes>"
      ]
     },
     "metadata": {},
     "output_type": "display_data"
    }
   ],
   "source": [
    "#create confusion matrix\n",
    "def confusion_matrix_plot(conf_matrix):\n",
    "    \"\"\" Confusion matrix matplotlib plot\n",
    "    # param conf_matrix: nested list of TP, TN, FP, FN\n",
    "    # return: None\n",
    "    \"\"\"\n",
    "    fig, ax = plt.subplots(figsize=(2.5, 2.5))\n",
    "    ax.matshow(conf_matrix, cmap=plt.cm.Blues, alpha=0.3)\n",
    "    for i in range(conf_matrix.shape[0]):\n",
    "        for j in range(conf_matrix.shape[1]):\n",
    "            ax.text(x=j, y=i, s=conf_matrix[i, j], va='center', ha='center')\n",
    "\n",
    "    plt.xlabel('Predicted label')\n",
    "    plt.ylabel('True label')\n",
    "\n",
    "    plt.tight_layout()\n",
    "    plt.show()\n",
    "    \n",
    "conf_matrix = tf.math.confusion_matrix(\n",
    "    y_test,\n",
    "    y_predictions,\n",
    "    num_classes=None,\n",
    "    weights=None,\n",
    "    dtype=tf.dtypes.int32,\n",
    "    name=None\n",
    ")\n",
    "confusion_matrix_plot(conf_matrix.numpy())"
   ]
  },
  {
   "cell_type": "code",
   "execution_count": 48,
   "id": "a0ca777d",
   "metadata": {},
   "outputs": [
    {
     "name": "stdout",
     "output_type": "stream",
     "text": [
      "115/115 [==============================] - 0s 1ms/step\n",
      "Printing encoded example:\n",
      "-------------------------\n",
      "[14374  5358   929   115   136  1993  1159   233    22  4615  5066  6338\n",
      "     4 16206  1010    93  1121     2    10   233   130  7721  2194   580\n",
      "  7579    19 16206  4090    93   483  2555 16206    93  1710 16206    22\n",
      "  2661  6848   840    22 16206   483  1988   741     4  4906    17    13\n",
      "   252  4899    19   777    17   124   559  1437  1782     2   156   929\n",
      "  3034   405  1714     2   649    22     2  2830   297  1942  6606 13097\n",
      "    93   124  4646    17     2  1641  2183     4   124  2730 11680  1214\n",
      "    22   349   494   436   268     4    13  1557  2172   659  4492   481\n",
      "   761     2  3915 14374  5358   929   249  2301    85   617   209   411\n",
      "    35   477 16206   124   186   780  5340    19  6140  3288    22  1559\n",
      "    73   133     2   499    79   115   336  4138     4   288     4     2\n",
      "   331  1862  6388 16206    19 16206   127  1121   617  2111    17  2065\n",
      "   266   314     0     0     0     0     0     0     0     0     0     0\n",
      "     0     0     0     0     0     0     0     0     0     0     0     0\n",
      "     0     0     0     0     0     0     0     0     0     0     0     0\n",
      "     0     0     0     0     0     0     0     0     0     0     0     0\n",
      "     0     0     0     0     0     0     0     0     0     0     0     0\n",
      "     0     0     0     0     0     0     0     0     0     0     0     0\n",
      "     0     0     0     0     0     0     0     0     0     0     0     0\n",
      "     0     0     0     0     0     0     0     0     0     0     0     0\n",
      "     0     0     0     0     0     0     0     0     0     0     0     0\n",
      "     0     0     0     0     0     0     0     0     0     0     0     0\n",
      "     0     0     0     0     0     0     0     0     0     0     0     0\n",
      "     0     0     0     0     0     0     0     0     0     0     0     0\n",
      "     0     0     0     0     0     0     0     0     0     0     0     0\n",
      "     0     0     0     0     0     0     0     0     0     0     0     0\n",
      "     0     0     0     0     0     0     0     0     0     0     0     0\n",
      "     0     0     0     0     0     0     0     0]\n",
      "\n",
      "Printing decoded example:\n",
      "-------------------------\n",
      "railroad tycoon 3 features 25 scenarios challenging players to recreate magnificent feats of UNK history from around the world players can lay track including tunnels and UNK pick from over 40 UNK from early UNK to modern bullets choose to UNK over 35 types of cargo in a dynamic economy and participate in an advanced stock market the new 3 d engine takes the franchise to the next level allowing smooth scaling from an eye in the sky view of an entire continent down to super detailed close up of a beautifully modeled train building or just the landscape railroad tycoon 3 also includes more multiplayer support than its predecessor UNK an on line chat and matchmaking service to top everything off the games soundtrack features another installment of some of the best authentic blues UNK and UNK music around multiplayer available in lan mode only\n",
      "\n",
      "Printing prediction of example:\n",
      "-------------------------------\n",
      "Positive metacritic review with probability [0.5658577]\n",
      "\n",
      "Printing ground truth of example:\n",
      "-----------------------------------\n",
      "Positive\n"
     ]
    }
   ],
   "source": [
    "# show example\n",
    "predictions = model.predict(test_data)\n",
    "\n",
    "for ex in test_data.take(1):\n",
    "    print('Printing encoded example:')\n",
    "    print('-------------------------')\n",
    "    print(ex[0].numpy()[0]) # test data is a mini-batch, keep only the first example in the first batch\n",
    "    \n",
    "    print('\\nPrinting decoded example:')\n",
    "    print('-------------------------')\n",
    "    print(encoder.decode(ex[0].numpy()[0]))\n",
    "    \n",
    "    print('\\nPrinting prediction of example:')\n",
    "    print('-------------------------------')\n",
    "    if predictions[0] < 0.5:\n",
    "        print('Negative metacritic review with probability', predictions[0])\n",
    "    else:\n",
    "        print('Positive metacritic review with probability', predictions[0])\n",
    "        \n",
    "    print('\\nPrinting ground truth of example:')\n",
    "    print('-----------------------------------')\n",
    "    ground_truth = ex[1].numpy()[0]\n",
    "    if ground_truth == 0:\n",
    "        print('Negative')\n",
    "    else:\n",
    "        print('Positive')"
   ]
  }
 ],
 "metadata": {
  "kernelspec": {
   "display_name": "Python 3 (ipykernel)",
   "language": "python",
   "name": "python3"
  },
  "language_info": {
   "codemirror_mode": {
    "name": "ipython",
    "version": 3
   },
   "file_extension": ".py",
   "mimetype": "text/x-python",
   "name": "python",
   "nbconvert_exporter": "python",
   "pygments_lexer": "ipython3",
   "version": "3.10.8"
  }
 },
 "nbformat": 4,
 "nbformat_minor": 5
}
